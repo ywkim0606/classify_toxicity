{
 "cells": [
  {
   "cell_type": "code",
   "execution_count": 26,
   "metadata": {},
   "outputs": [
    {
     "name": "stderr",
     "output_type": "stream",
     "text": [
      "[nltk_data] Downloading package punkt to /home/yoonwoo/nltk_data...\n",
      "[nltk_data]   Package punkt is already up-to-date!\n",
      "[nltk_data] Downloading package words to /home/yoonwoo/nltk_data...\n",
      "[nltk_data]   Package words is already up-to-date!\n"
     ]
    }
   ],
   "source": [
    "import pandas as pd\n",
    "import numpy as np\n",
    "import nltk\n",
    "nltk.download('punkt')\n",
    "nltk.download('words')\n",
    "from utils import *\n",
    "from sklearn.utils import shuffle"
   ]
  },
  {
   "cell_type": "code",
   "execution_count": 2,
   "metadata": {},
   "outputs": [],
   "source": [
    "train_org = pd.read_csv(\"train.csv\")\n",
    "test_org = pd.read_csv(\"test.csv\")"
   ]
  },
  {
   "cell_type": "code",
   "execution_count": 3,
   "metadata": {},
   "outputs": [],
   "source": [
    "train = train_org[[\n",
    "    'comment_text',\n",
    "    'target',\n",
    "    'physical_disability',\n",
    "    'intellectual_or_learning_disability',\n",
    "    'psychiatric_or_mental_illness',\n",
    "    'other_disability'\n",
    "    ]]"
   ]
  },
  {
   "cell_type": "markdown",
   "metadata": {},
   "source": [
    "### Add column : toxic_class - Target\n",
    "  - Very Toxic (a very hateful, aggressive, or disrespectful comment that is very likely to make you leave a discussion or give up on sharing your perspective)\n",
    "  - Toxic (a rude, disrespectful, or unreasonable comment that is somewhat likely to make you leave a discussion or give up on sharing your perspective)\n",
    "  - Hard to Say\n",
    "  - Not Toxic"
   ]
  },
  {
   "cell_type": "code",
   "execution_count": 6,
   "metadata": {},
   "outputs": [
    {
     "name": "stderr",
     "output_type": "stream",
     "text": [
      "/tmp/ipykernel_6777/1326535796.py:1: SettingWithCopyWarning: \n",
      "A value is trying to be set on a copy of a slice from a DataFrame.\n",
      "Try using .loc[row_indexer,col_indexer] = value instead\n",
      "\n",
      "See the caveats in the documentation: https://pandas.pydata.org/pandas-docs/stable/user_guide/indexing.html#returning-a-view-versus-a-copy\n",
      "  train['toxic_class'] = np.where(\n"
     ]
    }
   ],
   "source": [
    "train['toxic_class'] = np.where(\n",
    "    train['target'] >= 0.75, \"1VeryToxic\",\n",
    "    np.where(train['target'] >= 0.5, \"2Toxic\",\n",
    "             np.where(train['target'] >= 0.25, \"3HardtoSay\", \"4NotToxic\"))\n",
    ")"
   ]
  },
  {
   "cell_type": "markdown",
   "metadata": {},
   "source": [
    "### Add column : Disability binary"
   ]
  },
  {
   "cell_type": "code",
   "execution_count": 7,
   "metadata": {},
   "outputs": [
    {
     "name": "stderr",
     "output_type": "stream",
     "text": [
      "/tmp/ipykernel_6777/119421015.py:1: SettingWithCopyWarning: \n",
      "A value is trying to be set on a copy of a slice from a DataFrame.\n",
      "Try using .loc[row_indexer,col_indexer] = value instead\n",
      "\n",
      "See the caveats in the documentation: https://pandas.pydata.org/pandas-docs/stable/user_guide/indexing.html#returning-a-view-versus-a-copy\n",
      "  train['disability_bin'] = np.where(\n"
     ]
    }
   ],
   "source": [
    "train['disability_bin'] = np.where(\n",
    "    (train['physical_disability'] > 0) | (train['intellectual_or_learning_disability'] > 0) | (train['psychiatric_or_mental_illness'] > 0) | (train['other_disability'] > 0), 'Yes', 'No'\n",
    ")"
   ]
  },
  {
   "cell_type": "markdown",
   "metadata": {},
   "source": [
    "### NULL -> 0"
   ]
  },
  {
   "cell_type": "code",
   "execution_count": 8,
   "metadata": {},
   "outputs": [
    {
     "data": {
      "text/plain": [
       "comment_text                                 0\n",
       "target                                       0\n",
       "physical_disability                    1399744\n",
       "intellectual_or_learning_disability    1399744\n",
       "psychiatric_or_mental_illness          1399744\n",
       "other_disability                       1399744\n",
       "toxic_class                                  0\n",
       "disability_bin                               0\n",
       "dtype: int64"
      ]
     },
     "execution_count": 8,
     "metadata": {},
     "output_type": "execute_result"
    }
   ],
   "source": [
    "train.isnull().sum()"
   ]
  },
  {
   "cell_type": "code",
   "execution_count": 9,
   "metadata": {},
   "outputs": [
    {
     "data": {
      "text/plain": [
       "comment_text                           0\n",
       "target                                 0\n",
       "physical_disability                    0\n",
       "intellectual_or_learning_disability    0\n",
       "psychiatric_or_mental_illness          0\n",
       "other_disability                       0\n",
       "toxic_class                            0\n",
       "disability_bin                         0\n",
       "dtype: int64"
      ]
     },
     "execution_count": 9,
     "metadata": {},
     "output_type": "execute_result"
    }
   ],
   "source": [
    "train = train.fillna(0)\n",
    "train.isnull().sum()"
   ]
  },
  {
   "cell_type": "markdown",
   "metadata": {},
   "source": [
    "### Add column : Disability Category\n",
    "- physical_cat, il_cat, pm_cat, other_cat\n",
    "- >=0.75 : 1, >=0.5 : 2, >= 0.25 : 3, else 4"
   ]
  },
  {
   "cell_type": "code",
   "execution_count": 10,
   "metadata": {},
   "outputs": [],
   "source": [
    "train['physical_cat'] = np.where(\n",
    "    train['physical_disability'] >= 0.75, \"1\",\n",
    "    np.where(train['physical_disability'] >= 0.5, \"2\",\n",
    "             np.where(train['physical_disability'] >= 0.25, \"3\", \"4\"))\n",
    ")"
   ]
  },
  {
   "cell_type": "code",
   "execution_count": 11,
   "metadata": {},
   "outputs": [],
   "source": [
    "train['il_cat'] = np.where(\n",
    "    train['intellectual_or_learning_disability'] >= 0.75, \"1\",\n",
    "    np.where(train['intellectual_or_learning_disability'] >= 0.5, \"2\",\n",
    "             np.where(train['intellectual_or_learning_disability'] >= 0.25, \"3\", \"4\"))\n",
    ")"
   ]
  },
  {
   "cell_type": "code",
   "execution_count": 12,
   "metadata": {},
   "outputs": [],
   "source": [
    "train['pm_cat'] = np.where(\n",
    "    train['psychiatric_or_mental_illness'] >= 0.75, \"1\",\n",
    "    np.where(train['psychiatric_or_mental_illness'] >= 0.5, \"2\",\n",
    "             np.where(train['psychiatric_or_mental_illness'] >= 0.25, \"3\", \"4\"))\n",
    ")"
   ]
  },
  {
   "cell_type": "code",
   "execution_count": 13,
   "metadata": {},
   "outputs": [],
   "source": [
    "train['other_cat'] = np.where(\n",
    "    train['other_disability'] >= 0.75, \"1\",\n",
    "    np.where(train['other_disability'] >= 0.5, \"2\",\n",
    "             np.where(train['other_disability'] >= 0.25, \"3\", \"4\"))\n",
    ")"
   ]
  },
  {
   "cell_type": "markdown",
   "metadata": {},
   "source": [
    "## Part 3. Cleansing\n",
    "- remove unnecessary words, emoji...\n",
    "- sampling\n",
    "- tokenize\n",
    "- save : v1.csv"
   ]
  },
  {
   "cell_type": "code",
   "execution_count": 15,
   "metadata": {},
   "outputs": [],
   "source": [
    "train['tokenized'] = train['comment_text'].apply(lambda x: clean_text(x))"
   ]
  },
  {
   "cell_type": "code",
   "execution_count": 17,
   "metadata": {},
   "outputs": [
    {
     "data": {
      "text/html": [
       "<div>\n",
       "<style scoped>\n",
       "    .dataframe tbody tr th:only-of-type {\n",
       "        vertical-align: middle;\n",
       "    }\n",
       "\n",
       "    .dataframe tbody tr th {\n",
       "        vertical-align: top;\n",
       "    }\n",
       "\n",
       "    .dataframe thead th {\n",
       "        text-align: right;\n",
       "    }\n",
       "</style>\n",
       "<table border=\"1\" class=\"dataframe\">\n",
       "  <thead>\n",
       "    <tr style=\"text-align: right;\">\n",
       "      <th></th>\n",
       "      <th>comment_text</th>\n",
       "      <th>target</th>\n",
       "      <th>physical_disability</th>\n",
       "      <th>intellectual_or_learning_disability</th>\n",
       "      <th>psychiatric_or_mental_illness</th>\n",
       "      <th>other_disability</th>\n",
       "      <th>toxic_class</th>\n",
       "      <th>disability_bin</th>\n",
       "      <th>physical_cat</th>\n",
       "      <th>il_cat</th>\n",
       "      <th>pm_cat</th>\n",
       "      <th>other_cat</th>\n",
       "      <th>tokenized</th>\n",
       "    </tr>\n",
       "  </thead>\n",
       "  <tbody>\n",
       "    <tr>\n",
       "      <th>0</th>\n",
       "      <td>This is so cool. It's like, 'would you want yo...</td>\n",
       "      <td>0.000000</td>\n",
       "      <td>0.0</td>\n",
       "      <td>0.00</td>\n",
       "      <td>0.0</td>\n",
       "      <td>0.0</td>\n",
       "      <td>4NotToxic</td>\n",
       "      <td>No</td>\n",
       "      <td>4</td>\n",
       "      <td>4</td>\n",
       "      <td>4</td>\n",
       "      <td>4</td>\n",
       "      <td>this is so cool. it is like, 'would you want y...</td>\n",
       "    </tr>\n",
       "    <tr>\n",
       "      <th>1</th>\n",
       "      <td>Thank you!! This would make my life a lot less...</td>\n",
       "      <td>0.000000</td>\n",
       "      <td>0.0</td>\n",
       "      <td>0.00</td>\n",
       "      <td>0.0</td>\n",
       "      <td>0.0</td>\n",
       "      <td>4NotToxic</td>\n",
       "      <td>No</td>\n",
       "      <td>4</td>\n",
       "      <td>4</td>\n",
       "      <td>4</td>\n",
       "      <td>4</td>\n",
       "      <td>thank you!! this would make my life a lot less...</td>\n",
       "    </tr>\n",
       "    <tr>\n",
       "      <th>2</th>\n",
       "      <td>This is such an urgent design problem; kudos t...</td>\n",
       "      <td>0.000000</td>\n",
       "      <td>0.0</td>\n",
       "      <td>0.00</td>\n",
       "      <td>0.0</td>\n",
       "      <td>0.0</td>\n",
       "      <td>4NotToxic</td>\n",
       "      <td>No</td>\n",
       "      <td>4</td>\n",
       "      <td>4</td>\n",
       "      <td>4</td>\n",
       "      <td>4</td>\n",
       "      <td>this is such an urgent design problem; kudos t...</td>\n",
       "    </tr>\n",
       "    <tr>\n",
       "      <th>3</th>\n",
       "      <td>Is this something I'll be able to install on m...</td>\n",
       "      <td>0.000000</td>\n",
       "      <td>0.0</td>\n",
       "      <td>0.00</td>\n",
       "      <td>0.0</td>\n",
       "      <td>0.0</td>\n",
       "      <td>4NotToxic</td>\n",
       "      <td>No</td>\n",
       "      <td>4</td>\n",
       "      <td>4</td>\n",
       "      <td>4</td>\n",
       "      <td>4</td>\n",
       "      <td>is this something i will be able to install on...</td>\n",
       "    </tr>\n",
       "    <tr>\n",
       "      <th>4</th>\n",
       "      <td>haha you guys are a bunch of losers.</td>\n",
       "      <td>0.893617</td>\n",
       "      <td>0.0</td>\n",
       "      <td>0.25</td>\n",
       "      <td>0.0</td>\n",
       "      <td>0.0</td>\n",
       "      <td>1VeryToxic</td>\n",
       "      <td>Yes</td>\n",
       "      <td>4</td>\n",
       "      <td>3</td>\n",
       "      <td>4</td>\n",
       "      <td>4</td>\n",
       "      <td>haha you guys are a bunch of losers.</td>\n",
       "    </tr>\n",
       "  </tbody>\n",
       "</table>\n",
       "</div>"
      ],
      "text/plain": [
       "                                        comment_text    target  \\\n",
       "0  This is so cool. It's like, 'would you want yo...  0.000000   \n",
       "1  Thank you!! This would make my life a lot less...  0.000000   \n",
       "2  This is such an urgent design problem; kudos t...  0.000000   \n",
       "3  Is this something I'll be able to install on m...  0.000000   \n",
       "4               haha you guys are a bunch of losers.  0.893617   \n",
       "\n",
       "   physical_disability  intellectual_or_learning_disability  \\\n",
       "0                  0.0                                 0.00   \n",
       "1                  0.0                                 0.00   \n",
       "2                  0.0                                 0.00   \n",
       "3                  0.0                                 0.00   \n",
       "4                  0.0                                 0.25   \n",
       "\n",
       "   psychiatric_or_mental_illness  other_disability toxic_class disability_bin  \\\n",
       "0                            0.0               0.0   4NotToxic             No   \n",
       "1                            0.0               0.0   4NotToxic             No   \n",
       "2                            0.0               0.0   4NotToxic             No   \n",
       "3                            0.0               0.0   4NotToxic             No   \n",
       "4                            0.0               0.0  1VeryToxic            Yes   \n",
       "\n",
       "  physical_cat il_cat pm_cat other_cat  \\\n",
       "0            4      4      4         4   \n",
       "1            4      4      4         4   \n",
       "2            4      4      4         4   \n",
       "3            4      4      4         4   \n",
       "4            4      3      4         4   \n",
       "\n",
       "                                           tokenized  \n",
       "0  this is so cool. it is like, 'would you want y...  \n",
       "1  thank you!! this would make my life a lot less...  \n",
       "2  this is such an urgent design problem; kudos t...  \n",
       "3  is this something i will be able to install on...  \n",
       "4               haha you guys are a bunch of losers.  "
      ]
     },
     "execution_count": 17,
     "metadata": {},
     "output_type": "execute_result"
    }
   ],
   "source": [
    "train.head()"
   ]
  },
  {
   "cell_type": "code",
   "execution_count": 20,
   "metadata": {},
   "outputs": [],
   "source": [
    "a = int(len(train)/10)\n",
    "train_1 = train[   :a*1]\n",
    "train_2 = train[a*1:a*2]\n",
    "train_3 = train[a*2:a*3]\n",
    "train_4 = train[a*3:a*4]\n",
    "train_5 = train[a*4:a*5]\n",
    "train_6 = train[a*5:a*6]\n",
    "train_7 = train[a*6:a*7]\n",
    "train_8 = train[a*7:a*8]\n",
    "train_9 = train[a*8:a*9]\n",
    "train_10 = train[a*9:]"
   ]
  },
  {
   "cell_type": "code",
   "execution_count": 23,
   "metadata": {},
   "outputs": [
    {
     "name": "stdout",
     "output_type": "stream",
     "text": [
      "train_1\n"
     ]
    },
    {
     "name": "stderr",
     "output_type": "stream",
     "text": [
      "/tmp/ipykernel_6777/306892676.py:2: SettingWithCopyWarning: \n",
      "A value is trying to be set on a copy of a slice from a DataFrame.\n",
      "Try using .loc[row_indexer,col_indexer] = value instead\n",
      "\n",
      "See the caveats in the documentation: https://pandas.pydata.org/pandas-docs/stable/user_guide/indexing.html#returning-a-view-versus-a-copy\n",
      "  train_1['tokenized'] = train_1['tokenized'].apply(lambda x: nltk.word_tokenize(x))\n"
     ]
    },
    {
     "name": "stdout",
     "output_type": "stream",
     "text": [
      "train_2\n"
     ]
    },
    {
     "name": "stderr",
     "output_type": "stream",
     "text": [
      "/tmp/ipykernel_6777/306892676.py:4: SettingWithCopyWarning: \n",
      "A value is trying to be set on a copy of a slice from a DataFrame.\n",
      "Try using .loc[row_indexer,col_indexer] = value instead\n",
      "\n",
      "See the caveats in the documentation: https://pandas.pydata.org/pandas-docs/stable/user_guide/indexing.html#returning-a-view-versus-a-copy\n",
      "  train_2['tokenized'] = train_2['tokenized'].apply(lambda x: nltk.word_tokenize(x))\n"
     ]
    },
    {
     "name": "stdout",
     "output_type": "stream",
     "text": [
      "train_3\n"
     ]
    },
    {
     "name": "stderr",
     "output_type": "stream",
     "text": [
      "/tmp/ipykernel_6777/306892676.py:6: SettingWithCopyWarning: \n",
      "A value is trying to be set on a copy of a slice from a DataFrame.\n",
      "Try using .loc[row_indexer,col_indexer] = value instead\n",
      "\n",
      "See the caveats in the documentation: https://pandas.pydata.org/pandas-docs/stable/user_guide/indexing.html#returning-a-view-versus-a-copy\n",
      "  train_3['tokenized'] = train_3['tokenized'].apply(lambda x: nltk.word_tokenize(x))\n"
     ]
    },
    {
     "name": "stdout",
     "output_type": "stream",
     "text": [
      "train_4\n"
     ]
    },
    {
     "name": "stderr",
     "output_type": "stream",
     "text": [
      "/tmp/ipykernel_6777/306892676.py:8: SettingWithCopyWarning: \n",
      "A value is trying to be set on a copy of a slice from a DataFrame.\n",
      "Try using .loc[row_indexer,col_indexer] = value instead\n",
      "\n",
      "See the caveats in the documentation: https://pandas.pydata.org/pandas-docs/stable/user_guide/indexing.html#returning-a-view-versus-a-copy\n",
      "  train_4['tokenized'] = train_4['tokenized'].apply(lambda x: nltk.word_tokenize(x))\n"
     ]
    },
    {
     "name": "stdout",
     "output_type": "stream",
     "text": [
      "train_5\n"
     ]
    },
    {
     "name": "stderr",
     "output_type": "stream",
     "text": [
      "/tmp/ipykernel_6777/306892676.py:10: SettingWithCopyWarning: \n",
      "A value is trying to be set on a copy of a slice from a DataFrame.\n",
      "Try using .loc[row_indexer,col_indexer] = value instead\n",
      "\n",
      "See the caveats in the documentation: https://pandas.pydata.org/pandas-docs/stable/user_guide/indexing.html#returning-a-view-versus-a-copy\n",
      "  train_5['tokenized'] = train_5['tokenized'].apply(lambda x: nltk.word_tokenize(x))\n"
     ]
    },
    {
     "name": "stdout",
     "output_type": "stream",
     "text": [
      "train_6\n"
     ]
    },
    {
     "name": "stderr",
     "output_type": "stream",
     "text": [
      "/tmp/ipykernel_6777/306892676.py:12: SettingWithCopyWarning: \n",
      "A value is trying to be set on a copy of a slice from a DataFrame.\n",
      "Try using .loc[row_indexer,col_indexer] = value instead\n",
      "\n",
      "See the caveats in the documentation: https://pandas.pydata.org/pandas-docs/stable/user_guide/indexing.html#returning-a-view-versus-a-copy\n",
      "  train_6['tokenized'] = train_6['tokenized'].apply(lambda x: nltk.word_tokenize(x))\n"
     ]
    },
    {
     "name": "stdout",
     "output_type": "stream",
     "text": [
      "train_7\n"
     ]
    },
    {
     "name": "stderr",
     "output_type": "stream",
     "text": [
      "/tmp/ipykernel_6777/306892676.py:14: SettingWithCopyWarning: \n",
      "A value is trying to be set on a copy of a slice from a DataFrame.\n",
      "Try using .loc[row_indexer,col_indexer] = value instead\n",
      "\n",
      "See the caveats in the documentation: https://pandas.pydata.org/pandas-docs/stable/user_guide/indexing.html#returning-a-view-versus-a-copy\n",
      "  train_7['tokenized'] = train_7['tokenized'].apply(lambda x: nltk.word_tokenize(x))\n"
     ]
    },
    {
     "name": "stdout",
     "output_type": "stream",
     "text": [
      "train_8\n"
     ]
    },
    {
     "name": "stderr",
     "output_type": "stream",
     "text": [
      "/tmp/ipykernel_6777/306892676.py:16: SettingWithCopyWarning: \n",
      "A value is trying to be set on a copy of a slice from a DataFrame.\n",
      "Try using .loc[row_indexer,col_indexer] = value instead\n",
      "\n",
      "See the caveats in the documentation: https://pandas.pydata.org/pandas-docs/stable/user_guide/indexing.html#returning-a-view-versus-a-copy\n",
      "  train_8['tokenized'] = train_8['tokenized'].apply(lambda x: nltk.word_tokenize(x))\n"
     ]
    },
    {
     "name": "stdout",
     "output_type": "stream",
     "text": [
      "train_9\n"
     ]
    },
    {
     "name": "stderr",
     "output_type": "stream",
     "text": [
      "/tmp/ipykernel_6777/306892676.py:18: SettingWithCopyWarning: \n",
      "A value is trying to be set on a copy of a slice from a DataFrame.\n",
      "Try using .loc[row_indexer,col_indexer] = value instead\n",
      "\n",
      "See the caveats in the documentation: https://pandas.pydata.org/pandas-docs/stable/user_guide/indexing.html#returning-a-view-versus-a-copy\n",
      "  train_9['tokenized'] = train_9['tokenized'].apply(lambda x: nltk.word_tokenize(x))\n"
     ]
    },
    {
     "name": "stdout",
     "output_type": "stream",
     "text": [
      "train_10\n"
     ]
    },
    {
     "name": "stderr",
     "output_type": "stream",
     "text": [
      "/tmp/ipykernel_6777/306892676.py:20: SettingWithCopyWarning: \n",
      "A value is trying to be set on a copy of a slice from a DataFrame.\n",
      "Try using .loc[row_indexer,col_indexer] = value instead\n",
      "\n",
      "See the caveats in the documentation: https://pandas.pydata.org/pandas-docs/stable/user_guide/indexing.html#returning-a-view-versus-a-copy\n",
      "  train_10['tokenized'] = train_10['tokenized'].apply(lambda x: nltk.word_tokenize(x))\n"
     ]
    }
   ],
   "source": [
    "print('train_1')\n",
    "train_1['tokenized'] = train_1['tokenized'].apply(lambda x: nltk.word_tokenize(x))\n",
    "print('train_2')\n",
    "train_2['tokenized'] = train_2['tokenized'].apply(lambda x: nltk.word_tokenize(x))\n",
    "print('train_3')\n",
    "train_3['tokenized'] = train_3['tokenized'].apply(lambda x: nltk.word_tokenize(x))\n",
    "print('train_4')\n",
    "train_4['tokenized'] = train_4['tokenized'].apply(lambda x: nltk.word_tokenize(x))\n",
    "print('train_5')\n",
    "train_5['tokenized'] = train_5['tokenized'].apply(lambda x: nltk.word_tokenize(x))\n",
    "print('train_6')\n",
    "train_6['tokenized'] = train_6['tokenized'].apply(lambda x: nltk.word_tokenize(x))\n",
    "print('train_7')\n",
    "train_7['tokenized'] = train_7['tokenized'].apply(lambda x: nltk.word_tokenize(x))\n",
    "print('train_8')\n",
    "train_8['tokenized'] = train_8['tokenized'].apply(lambda x: nltk.word_tokenize(x))\n",
    "print('train_9')\n",
    "train_9['tokenized'] = train_9['tokenized'].apply(lambda x: nltk.word_tokenize(x))\n",
    "print('train_10')\n",
    "train_10['tokenized'] = train_10['tokenized'].apply(lambda x: nltk.word_tokenize(x))"
   ]
  },
  {
   "cell_type": "code",
   "execution_count": 24,
   "metadata": {},
   "outputs": [],
   "source": [
    "train = pd.concat([train_1, train_2, train_3, train_4, train_5, train_6, train_7, train_8, train_9, train_10])"
   ]
  },
  {
   "cell_type": "code",
   "execution_count": 27,
   "metadata": {},
   "outputs": [],
   "source": [
    "train = shuffle(train)"
   ]
  },
  {
   "cell_type": "code",
   "execution_count": 29,
   "metadata": {},
   "outputs": [],
   "source": [
    "train.to_pickle(\"train.pkl\")"
   ]
  },
  {
   "cell_type": "code",
   "execution_count": 30,
   "metadata": {},
   "outputs": [],
   "source": [
    "unpickled_train = pd.read_pickle(\"train.pkl\")  "
   ]
  }
 ],
 "metadata": {
  "kernelspec": {
   "display_name": "Python 3.9.13 ('nlp')",
   "language": "python",
   "name": "python3"
  },
  "language_info": {
   "codemirror_mode": {
    "name": "ipython",
    "version": 3
   },
   "file_extension": ".py",
   "mimetype": "text/x-python",
   "name": "python",
   "nbconvert_exporter": "python",
   "pygments_lexer": "ipython3",
   "version": "3.9.13"
  },
  "orig_nbformat": 4,
  "vscode": {
   "interpreter": {
    "hash": "9f6169341cbcde7db6a1103c120c85bee1d01c496b40a404f2c430786fbad17d"
   }
  }
 },
 "nbformat": 4,
 "nbformat_minor": 2
}
